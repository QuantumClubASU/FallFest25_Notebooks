{
 "cells": [
  {
   "cell_type": "markdown",
   "id": "c982e8dc-7ead-40fd-a2ba-a13c43aa7b3c",
   "metadata": {},
   "source": [
    "# QML on IBM Computers with [PennyLane](https://pennylane.ai/qml/demos/ibm_pennylane) \n",
    "\n",
    "IBM offers access to a variety of devices, both classical simulators and real quantum hardware. By default, these devices are not included in PennyLane, but after installing the [PennyLane-Qiskit](https://docs.pennylane.ai/projects/qiskit/en/stable/) plugin with the command pip install pennylane-qiskit, they can be used just like any other device offered in PennyLane!\n",
    "\n",
    "**When running on Colab, we need to start by installing the dependencies. "
   ]
  },
  {
   "cell_type": "code",
   "execution_count": 1,
   "id": "bc23ae45-af74-46d7-bb9c-7e52fafba06d",
   "metadata": {
    "scrolled": true
   },
   "outputs": [
    {
     "name": "stdout",
     "output_type": "stream",
     "text": [
      "Requirement already satisfied: pennylane-qiskit in /home/vinayak/miniconda3/envs/QML/lib/python3.12/site-packages (0.43.0)\n",
      "Requirement already satisfied: qiskit in /home/vinayak/miniconda3/envs/QML/lib/python3.12/site-packages (2.1.2)\n",
      "Requirement already satisfied: pennylane in /home/vinayak/miniconda3/envs/QML/lib/python3.12/site-packages (0.43.0)\n",
      "Requirement already satisfied: matplotlib in /home/vinayak/miniconda3/envs/QML/lib/python3.12/site-packages (3.10.7)\n",
      "Requirement already satisfied: qiskit-aer~=0.17.1 in /home/vinayak/miniconda3/envs/QML/lib/python3.12/site-packages (from pennylane-qiskit) (0.17.2)\n",
      "Requirement already satisfied: qiskit-ibm-runtime~=0.41.1 in /home/vinayak/miniconda3/envs/QML/lib/python3.12/site-packages (from pennylane-qiskit) (0.41.1)\n",
      "Requirement already satisfied: sympy in /home/vinayak/miniconda3/envs/QML/lib/python3.12/site-packages (from pennylane-qiskit) (1.14.0)\n",
      "Requirement already satisfied: networkx>=2.2 in /home/vinayak/miniconda3/envs/QML/lib/python3.12/site-packages (from pennylane-qiskit) (3.5)\n",
      "Requirement already satisfied: rustworkx>=0.15.0 in /home/vinayak/miniconda3/envs/QML/lib/python3.12/site-packages (from qiskit) (0.17.1)\n",
      "Requirement already satisfied: numpy<3,>=1.17 in /home/vinayak/miniconda3/envs/QML/lib/python3.12/site-packages (from qiskit) (2.3.3)\n",
      "Requirement already satisfied: scipy>=1.5 in /home/vinayak/miniconda3/envs/QML/lib/python3.12/site-packages (from qiskit) (1.16.2)\n",
      "Requirement already satisfied: dill>=0.3 in /home/vinayak/miniconda3/envs/QML/lib/python3.12/site-packages (from qiskit) (0.4.0)\n",
      "Requirement already satisfied: stevedore>=3.0.0 in /home/vinayak/miniconda3/envs/QML/lib/python3.12/site-packages (from qiskit) (5.5.0)\n",
      "Requirement already satisfied: typing-extensions in /home/vinayak/miniconda3/envs/QML/lib/python3.12/site-packages (from qiskit) (4.15.0)\n",
      "Requirement already satisfied: psutil>=5 in /home/vinayak/miniconda3/envs/QML/lib/python3.12/site-packages (from qiskit-aer~=0.17.1->pennylane-qiskit) (7.1.0)\n",
      "Requirement already satisfied: python-dateutil>=2.8.0 in /home/vinayak/miniconda3/envs/QML/lib/python3.12/site-packages (from qiskit-aer~=0.17.1->pennylane-qiskit) (2.9.0.post0)\n",
      "Requirement already satisfied: requests>=2.19 in /home/vinayak/miniconda3/envs/QML/lib/python3.12/site-packages (from qiskit-ibm-runtime~=0.41.1->pennylane-qiskit) (2.32.5)\n",
      "Requirement already satisfied: requests-ntlm>=1.1.0 in /home/vinayak/miniconda3/envs/QML/lib/python3.12/site-packages (from qiskit-ibm-runtime~=0.41.1->pennylane-qiskit) (1.3.0)\n",
      "Requirement already satisfied: urllib3>=1.21.1 in /home/vinayak/miniconda3/envs/QML/lib/python3.12/site-packages (from qiskit-ibm-runtime~=0.41.1->pennylane-qiskit) (2.5.0)\n",
      "Requirement already satisfied: ibm-platform-services>=0.22.6 in /home/vinayak/miniconda3/envs/QML/lib/python3.12/site-packages (from qiskit-ibm-runtime~=0.41.1->pennylane-qiskit) (0.69.0)\n",
      "Requirement already satisfied: pydantic>=2.5.0 in /home/vinayak/miniconda3/envs/QML/lib/python3.12/site-packages (from qiskit-ibm-runtime~=0.41.1->pennylane-qiskit) (2.12.3)\n",
      "Requirement already satisfied: packaging in /home/vinayak/miniconda3/envs/QML/lib/python3.12/site-packages (from qiskit-ibm-runtime~=0.41.1->pennylane-qiskit) (25.0)\n",
      "Requirement already satisfied: autograd in /home/vinayak/miniconda3/envs/QML/lib/python3.12/site-packages (from pennylane) (1.8.0)\n",
      "Requirement already satisfied: appdirs in /home/vinayak/miniconda3/envs/QML/lib/python3.12/site-packages (from pennylane) (1.4.4)\n",
      "Requirement already satisfied: autoray==0.8.0 in /home/vinayak/miniconda3/envs/QML/lib/python3.12/site-packages (from pennylane) (0.8.0)\n",
      "Requirement already satisfied: cachetools in /home/vinayak/miniconda3/envs/QML/lib/python3.12/site-packages (from pennylane) (6.2.0)\n",
      "Requirement already satisfied: pennylane-lightning>=0.43 in /home/vinayak/miniconda3/envs/QML/lib/python3.12/site-packages (from pennylane) (0.43.0)\n",
      "Requirement already satisfied: tomlkit in /home/vinayak/miniconda3/envs/QML/lib/python3.12/site-packages (from pennylane) (0.13.3)\n",
      "Requirement already satisfied: diastatic-malt in /home/vinayak/miniconda3/envs/QML/lib/python3.12/site-packages (from pennylane) (2.15.2)\n",
      "Requirement already satisfied: contourpy>=1.0.1 in /home/vinayak/miniconda3/envs/QML/lib/python3.12/site-packages (from matplotlib) (1.3.3)\n",
      "Requirement already satisfied: cycler>=0.10 in /home/vinayak/miniconda3/envs/QML/lib/python3.12/site-packages (from matplotlib) (0.12.1)\n",
      "Requirement already satisfied: fonttools>=4.22.0 in /home/vinayak/miniconda3/envs/QML/lib/python3.12/site-packages (from matplotlib) (4.60.1)\n",
      "Requirement already satisfied: kiwisolver>=1.3.1 in /home/vinayak/miniconda3/envs/QML/lib/python3.12/site-packages (from matplotlib) (1.4.9)\n",
      "Requirement already satisfied: pillow>=8 in /home/vinayak/miniconda3/envs/QML/lib/python3.12/site-packages (from matplotlib) (11.3.0)\n",
      "Requirement already satisfied: pyparsing>=3 in /home/vinayak/miniconda3/envs/QML/lib/python3.12/site-packages (from matplotlib) (3.2.5)\n",
      "Requirement already satisfied: ibm_cloud_sdk_core<4.0.0,>=3.24.2 in /home/vinayak/miniconda3/envs/QML/lib/python3.12/site-packages (from ibm-platform-services>=0.22.6->qiskit-ibm-runtime~=0.41.1->pennylane-qiskit) (3.24.2)\n",
      "Requirement already satisfied: PyJWT<3.0.0,>=2.10.1 in /home/vinayak/miniconda3/envs/QML/lib/python3.12/site-packages (from ibm_cloud_sdk_core<4.0.0,>=3.24.2->ibm-platform-services>=0.22.6->qiskit-ibm-runtime~=0.41.1->pennylane-qiskit) (2.10.1)\n",
      "Requirement already satisfied: six>=1.5 in /home/vinayak/miniconda3/envs/QML/lib/python3.12/site-packages (from python-dateutil>=2.8.0->qiskit-aer~=0.17.1->pennylane-qiskit) (1.17.0)\n",
      "Requirement already satisfied: charset_normalizer<4,>=2 in /home/vinayak/miniconda3/envs/QML/lib/python3.12/site-packages (from requests>=2.19->qiskit-ibm-runtime~=0.41.1->pennylane-qiskit) (3.4.3)\n",
      "Requirement already satisfied: idna<4,>=2.5 in /home/vinayak/miniconda3/envs/QML/lib/python3.12/site-packages (from requests>=2.19->qiskit-ibm-runtime~=0.41.1->pennylane-qiskit) (3.10)\n",
      "Requirement already satisfied: certifi>=2017.4.17 in /home/vinayak/miniconda3/envs/QML/lib/python3.12/site-packages (from requests>=2.19->qiskit-ibm-runtime~=0.41.1->pennylane-qiskit) (2025.10.5)\n",
      "Requirement already satisfied: scipy-openblas32>=0.3.26 in /home/vinayak/miniconda3/envs/QML/lib/python3.12/site-packages (from pennylane-lightning>=0.43->pennylane) (0.3.30.0.2)\n",
      "Requirement already satisfied: annotated-types>=0.6.0 in /home/vinayak/miniconda3/envs/QML/lib/python3.12/site-packages (from pydantic>=2.5.0->qiskit-ibm-runtime~=0.41.1->pennylane-qiskit) (0.7.0)\n",
      "Requirement already satisfied: pydantic-core==2.41.4 in /home/vinayak/miniconda3/envs/QML/lib/python3.12/site-packages (from pydantic>=2.5.0->qiskit-ibm-runtime~=0.41.1->pennylane-qiskit) (2.41.4)\n",
      "Requirement already satisfied: typing-inspection>=0.4.2 in /home/vinayak/miniconda3/envs/QML/lib/python3.12/site-packages (from pydantic>=2.5.0->qiskit-ibm-runtime~=0.41.1->pennylane-qiskit) (0.4.2)\n",
      "Requirement already satisfied: cryptography>=1.3 in /home/vinayak/miniconda3/envs/QML/lib/python3.12/site-packages (from requests-ntlm>=1.1.0->qiskit-ibm-runtime~=0.41.1->pennylane-qiskit) (46.0.3)\n",
      "Requirement already satisfied: pyspnego>=0.4.0 in /home/vinayak/miniconda3/envs/QML/lib/python3.12/site-packages (from requests-ntlm>=1.1.0->qiskit-ibm-runtime~=0.41.1->pennylane-qiskit) (0.12.0)\n",
      "Requirement already satisfied: cffi>=2.0.0 in /home/vinayak/miniconda3/envs/QML/lib/python3.12/site-packages (from cryptography>=1.3->requests-ntlm>=1.1.0->qiskit-ibm-runtime~=0.41.1->pennylane-qiskit) (2.0.0)\n",
      "Requirement already satisfied: pycparser in /home/vinayak/miniconda3/envs/QML/lib/python3.12/site-packages (from cffi>=2.0.0->cryptography>=1.3->requests-ntlm>=1.1.0->qiskit-ibm-runtime~=0.41.1->pennylane-qiskit) (2.23)\n",
      "Requirement already satisfied: astunparse in /home/vinayak/miniconda3/envs/QML/lib/python3.12/site-packages (from diastatic-malt->pennylane) (1.6.3)\n",
      "Requirement already satisfied: gast in /home/vinayak/miniconda3/envs/QML/lib/python3.12/site-packages (from diastatic-malt->pennylane) (0.6.0)\n",
      "Requirement already satisfied: termcolor in /home/vinayak/miniconda3/envs/QML/lib/python3.12/site-packages (from diastatic-malt->pennylane) (3.1.0)\n",
      "Requirement already satisfied: wheel<1.0,>=0.23.0 in /home/vinayak/miniconda3/envs/QML/lib/python3.12/site-packages (from astunparse->diastatic-malt->pennylane) (0.45.1)\n",
      "Requirement already satisfied: mpmath<1.4,>=1.1.0 in /home/vinayak/miniconda3/envs/QML/lib/python3.12/site-packages (from sympy->pennylane-qiskit) (1.3.0)\n"
     ]
    }
   ],
   "source": [
    "! pip install pennylane-qiskit qiskit pennylane matplotlib tqdm"
   ]
  },
  {
   "cell_type": "markdown",
   "id": "f4a9e28a-2aaf-49c6-b0d9-837bb23999e5",
   "metadata": {},
   "source": [
    "Currently, there are three devices available — Aer, BasicSim and Remote — that can be initialized as follows:"
   ]
  },
  {
   "cell_type": "code",
   "execution_count": 46,
   "id": "5a04e8e1-f86d-4a1b-829e-2f4d86e6b073",
   "metadata": {},
   "outputs": [],
   "source": [
    "import pennylane as qml\n",
    "from qiskit_aer import AerSimulator\n",
    "\n",
    "dev = qml.device(\"qiskit.aer\", wires=1, backendbackend=AerSimulator())"
   ]
  },
  {
   "cell_type": "markdown",
   "id": "7b1e8445-bbd9-41b8-99d0-2c504042f113",
   "metadata": {},
   "source": [
    "### Listing out our backends"
   ]
  },
  {
   "cell_type": "code",
   "execution_count": 23,
   "id": "2dca575f-ceb6-4524-8d45-33847041b2cc",
   "metadata": {},
   "outputs": [
    {
     "name": "stdout",
     "output_type": "stream",
     "text": [
      "[AerSimulator('aer_simulator'), AerSimulator('aer_simulator_statevector'), AerSimulator('aer_simulator_density_matrix'), AerSimulator('aer_simulator_stabilizer'), AerSimulator('aer_simulator_matrix_product_state'), AerSimulator('aer_simulator_extended_stabilizer'), AerSimulator('aer_simulator_unitary'), AerSimulator('aer_simulator_superop'), QasmSimulator('qasm_simulator'), StatevectorSimulator('statevector_simulator'), UnitarySimulator('unitary_simulator')]\n"
     ]
    }
   ],
   "source": [
    "from qiskit_aer import Aer\n",
    "\n",
    "print(Aer.backends())"
   ]
  },
  {
   "cell_type": "markdown",
   "id": "f72bce93-4f7f-4a87-b73b-36c2beb19998",
   "metadata": {},
   "source": [
    "## Creating your first circuit!! \n",
    "Every circuit in pennylane is a python function wrapped in a [Pennylane Qnode](https://docs.pennylane.ai/en/stable/code/api/pennylane.QNode.html). By default every qubit is initialized to the $\\ket{0}$ state. Lets start by creating a simple circuit to flip the qubit state."
   ]
  },
  {
   "cell_type": "code",
   "execution_count": 47,
   "id": "2c685441-6f64-4fef-bbc7-51846eb2a969",
   "metadata": {},
   "outputs": [],
   "source": [
    "@qml.qnode(dev)\n",
    "def flipper():\n",
    "    qml.X(wires=0) # We apply the Pauli-X gate on the first qubit\n",
    "    return qml.probs() # Return the probabilities of the circuit"
   ]
  },
  {
   "cell_type": "code",
   "execution_count": 48,
   "id": "ca8d13f0-45e5-4b79-905a-4522b5fdf656",
   "metadata": {},
   "outputs": [
    {
     "name": "stderr",
     "output_type": "stream",
     "text": [
      "/home/vinayak/miniconda3/envs/QML/lib/python3.12/site-packages/pennylane_qiskit/qiskit_device_legacy.py:143: UserWarning: The analytic calculation of expectations, variances and probabilities is only supported on statevector backends, not on the aer_simulator. Such statistics obtained from this device are estimates based on samples.\n",
      "  warnings.warn(self.analytic_warning_message.format(self.backend_name), UserWarning)\n"
     ]
    },
    {
     "data": {
      "text/plain": [
       "array([0., 1.])"
      ]
     },
     "execution_count": 48,
     "metadata": {},
     "output_type": "execute_result"
    }
   ],
   "source": [
    "flipper()"
   ]
  },
  {
   "cell_type": "markdown",
   "id": "436527c7-f17a-4dc8-a91f-eb1d128278d5",
   "metadata": {},
   "source": [
    "We can visualize these circuits as well using the [`qml.draw_mpl`](https://docs.pennylane.ai/en/stable/code/api/pennylane.draw_mpl.html) function."
   ]
  },
  {
   "cell_type": "code",
   "execution_count": 35,
   "id": "b3a63d18-5c42-4959-94b9-b5b323ce3eb5",
   "metadata": {},
   "outputs": [
    {
     "data": {
      "text/plain": [
       "(<Figure size 400x200 with 1 Axes>, <Axes: >)"
      ]
     },
     "execution_count": 35,
     "metadata": {},
     "output_type": "execute_result"
    },
    {
     "data": {
      "image/png": "[encoded data removed]",
      "text/plain": [
       "<Figure size 400x200 with 1 Axes>"
      ]
     },
     "metadata": {},
     "output_type": "display_data"
    }
   ],
   "source": [
    "qml.draw_mpl(flipper)()"
   ]
  },
  {
   "cell_type": "markdown",
   "id": "bb72a8fc-1e37-4815-9e10-f0e6bc47523c",
   "metadata": {},
   "source": [
    "### Lets add some classical variables here\n",
    "Pennylane allows us to pass arguments to qnodes just like normal python functions !\n",
    "\n",
    "Let's create a Qnode which takes a boolean x as an input and flips the qubit state based on this boolean. This is also known as [basis state encoding](https://pennylane.ai/qml/glossary/quantum_embedding)."
   ]
  },
  {
   "cell_type": "code",
   "execution_count": 36,
   "id": "2737fcf9-9d50-458c-a5a8-e13b032ed299",
   "metadata": {},
   "outputs": [],
   "source": [
    "@qml.qnode(dev)\n",
    "def flipper2(x:bool):\n",
    "    if(x):\n",
    "        qml.X(0)\n",
    "    return qml.probs()"
   ]
  },
  {
   "cell_type": "code",
   "execution_count": 37,
   "id": "b9506d03-03b9-4417-952e-8507e1eb9823",
   "metadata": {},
   "outputs": [
    {
     "name": "stderr",
     "output_type": "stream",
     "text": [
      "/home/vinayak/miniconda3/envs/QML/lib/python3.12/site-packages/pennylane_qiskit/qiskit_device_legacy.py:143: UserWarning: The analytic calculation of expectations, variances and probabilities is only supported on statevector backends, not on the aer_simulator. Such statistics obtained from this device are estimates based on samples.\n",
      "  warnings.warn(self.analytic_warning_message.format(self.backend_name), UserWarning)\n"
     ]
    },
    {
     "data": {
      "text/plain": [
       "array([0., 1.])"
      ]
     },
     "execution_count": 37,
     "metadata": {},
     "output_type": "execute_result"
    }
   ],
   "source": [
    "flipper2(True)"
   ]
  },
  {
   "cell_type": "code",
   "execution_count": 38,
   "id": "60688207-df44-40ba-9dfe-24047855ad34",
   "metadata": {},
   "outputs": [
    {
     "data": {
      "text/plain": [
       "array([1., 0.])"
      ]
     },
     "execution_count": 38,
     "metadata": {},
     "output_type": "execute_result"
    }
   ],
   "source": [
    "flipper2(False)"
   ]
  },
  {
   "cell_type": "markdown",
   "id": "18b3899e-aa4b-4153-802d-ac58f8fa916c",
   "metadata": {},
   "source": [
    "### More Gates More Compute !\n",
    "Lets now create the circuit which applies the `H`, `Z` and `X` gates in that order. We should expect the state :"
   ]
  },
  {
   "cell_type": "code",
   "execution_count": 40,
   "id": "ff1628e6-fe00-44a8-9bb8-e8f475d49e30",
   "metadata": {},
   "outputs": [],
   "source": [
    "@qml.qnode(dev)\n",
    "def multiple_gates():\n",
    "    qml.Hadamard(0)\n",
    "    qml.Z(0)\n",
    "    qml.X(0)\n",
    "    return qml.probs()"
   ]
  },
  {
   "cell_type": "code",
   "execution_count": 42,
   "id": "6df7fb58-b5bc-405b-8df3-959cb59099c9",
   "metadata": {},
   "outputs": [
    {
     "data": {
      "text/plain": [
       "array([0.4765625, 0.5234375])"
      ]
     },
     "execution_count": 42,
     "metadata": {},
     "output_type": "execute_result"
    }
   ],
   "source": [
    "multiple_gates()"
   ]
  },
  {
   "cell_type": "code",
   "execution_count": 43,
   "id": "0e439dac-ed34-49bc-9ef8-48bea38aac2d",
   "metadata": {},
   "outputs": [
    {
     "data": {
      "text/plain": [
       "(<Figure size 600x200 with 1 Axes>, <Axes: >)"
      ]
     },
     "execution_count": 43,
     "metadata": {},
     "output_type": "execute_result"
    },
    {
     "data": {
      "image/png": "[encoded data removed]",
      "text/plain": [
       "<Figure size 600x200 with 1 Axes>"
      ]
     },
     "metadata": {},
     "output_type": "display_data"
    }
   ],
   "source": [
    "qml.draw_mpl(multiple_gates)()"
   ]
  },
  {
   "cell_type": "markdown",
   "id": "90980a06-57c9-4c33-ad8c-985e9b26360a",
   "metadata": {},
   "source": [
    "## Moving to Multiple Qubits"
   ]
  },
  {
   "cell_type": "markdown",
   "id": "dfd84c10-bc54-4d72-97c0-794812d18e32",
   "metadata": {},
   "source": [
    "Lets create a circuit to create the Bell $\\ket{\\phi_+}$-state.\n",
    "\n",
    "We do it the following order:\n",
    "1. Create a new device with 2 qubits\n",
    "2. Apply the gates to the appropriate qubits\n",
    "3. Return the probs"
   ]
  },
  {
   "cell_type": "code",
   "execution_count": 52,
   "id": "e1ab2565-fbae-433b-b22b-be6ad37adc52",
   "metadata": {},
   "outputs": [],
   "source": [
    "dev = qml.device(\"qiskit.aer\", wires=2, backendbackend=AerSimulator())"
   ]
  },
  {
   "cell_type": "code",
   "execution_count": 53,
   "id": "e1e58105-59f3-44c2-9933-7f9b89c7e923",
   "metadata": {},
   "outputs": [],
   "source": [
    "@qml.qnode(dev)\n",
    "def bell_maker():\n",
    "    qml.Hadamard(0)\n",
    "    qml.CNOT([0,1])\n",
    "    return qml.probs()"
   ]
  },
  {
   "cell_type": "code",
   "execution_count": 54,
   "id": "dd6eb8f9-b49d-4beb-926f-3b9d4484e01a",
   "metadata": {},
   "outputs": [
    {
     "data": {
      "text/plain": [
       "array([0.50195312, 0.        , 0.        , 0.49804688])"
      ]
     },
     "execution_count": 54,
     "metadata": {},
     "output_type": "execute_result"
    }
   ],
   "source": [
    "bell_maker()"
   ]
  },
  {
   "cell_type": "code",
   "execution_count": 56,
   "id": "e1b084ff-7313-4c71-ac75-5b488ece7d48",
   "metadata": {},
   "outputs": [
    {
     "data": {
      "text/plain": [
       "(<Figure size 500x300 with 1 Axes>, <Axes: >)"
      ]
     },
     "execution_count": 56,
     "metadata": {},
     "output_type": "execute_result"
    },
    {
     "data": {
      "image/png": "[encoded data removed]",
      "text/plain": [
       "<Figure size 500x300 with 1 Axes>"
      ]
     },
     "metadata": {},
     "output_type": "display_data"
    }
   ],
   "source": [
    "qml.draw_mpl(bell_maker)()"
   ]
  },
  {
   "cell_type": "markdown",
   "id": "688cb047-e237-4fae-9e9c-5c62c5c409f4",
   "metadata": {},
   "source": [
    "# Quantum Machine Learning\n",
    "\n",
    "Quantum Machine Learning "
   ]
  },
  {
   "cell_type": "code",
   "execution_count": 62,
   "id": "4cec8ce2-5351-4ce5-8a89-15e8c334fb8a",
   "metadata": {},
   "outputs": [],
   "source": [
    "import tensorflow as tf\n",
    "import numpy as np\n",
    "import matplotlib.pyplot as plt"
   ]
  },
  {
   "cell_type": "code",
   "execution_count": 88,
   "id": "43ecd7b3-6ddd-409d-8201-680f6a3a2360",
   "metadata": {},
   "outputs": [],
   "source": [
    "dev = qml.device(\"lightning.qubit\", wires=2)"
   ]
  },
  {
   "cell_type": "markdown",
   "id": "5ed69c66-f22a-4f8f-b375-0b522d49b67b",
   "metadata": {},
   "source": [
    "## Data Generation\n",
    "Our dataset is generated by creating a random quantum circuit in 1 variable (x) which then produce a resultant measurement expval on the Pauli-Z observable (computational basis state). \n",
    "\n",
    "*tf;dr* Create a random gate and then measure the expectation value of the state"
   ]
  },
  {
   "cell_type": "code",
   "execution_count": 76,
   "id": "9dd02a8a-ba11-43d3-aa12-cb62e50f28a7",
   "metadata": {},
   "outputs": [],
   "source": [
    "@qml.qnode(dev)\n",
    "def data_gen(x,weights):\n",
    "    qml.RY(x,wires=0)\n",
    "    qml.RandomLayers(weights,wires=0,ratio_imprim=0.4)\n",
    "    return qml.expval(qml.Z(0))    "
   ]
  },
  {
   "cell_type": "code",
   "execution_count": 77,
   "id": "935ede4e-f709-4828-bacc-823cd9288ce4",
   "metadata": {},
   "outputs": [],
   "source": [
    "w = np.random.randn(3,1)"
   ]
  },
  {
   "cell_type": "markdown",
   "id": "b14e70a2-3390-4259-b382-8e49d1e8db8f",
   "metadata": {},
   "source": [
    "Visualizing the Circuit"
   ]
  },
  {
   "cell_type": "code",
   "execution_count": 79,
   "id": "de95ca3b-718a-4815-b2ec-30cb25d0b49d",
   "metadata": {},
   "outputs": [
    {
     "data": {
      "image/png": "[encoded data removed]",
      "text/plain": [
       "<Figure size 500x200 with 1 Axes>"
      ]
     },
     "metadata": {},
     "output_type": "display_data"
    }
   ],
   "source": [
    "fig = qml.draw_mpl(data_gen)(np.random.randn(),w)\n",
    "t = plt.title(\"Abstract Circuit\")"
   ]
  },
  {
   "cell_type": "markdown",
   "id": "465fa42d-aa73-4560-b384-813dd720eeb1",
   "metadata": {},
   "source": [
    "Making it more clear to see"
   ]
  },
  {
   "cell_type": "code",
   "execution_count": 80,
   "id": "09abe12c-d4be-44b6-bfe4-1f75c23c0aa1",
   "metadata": {},
   "outputs": [
    {
     "name": "stderr",
     "output_type": "stream",
     "text": [
      "/home/vinayak/miniconda3/envs/QML/lib/python3.12/site-packages/pennylane_qiskit/qiskit_device_legacy.py:143: UserWarning: The analytic calculation of expectations, variances and probabilities is only supported on statevector backends, not on the aer_simulator. Such statistics obtained from this device are estimates based on samples.\n",
      "  warnings.warn(self.analytic_warning_message.format(self.backend_name), UserWarning)\n"
     ]
    },
    {
     "data": {
      "image/png": "[encoded data removed]",
      "text/plain": [
       "<Figure size 700x200 with 1 Axes>"
      ]
     },
     "metadata": {},
     "output_type": "display_data"
    }
   ],
   "source": [
    "fig = qml.draw_mpl(data_gen,level='device')(np.random.randn(),w)"
   ]
  },
  {
   "cell_type": "markdown",
   "id": "eb49e90a-2721-49b1-bc73-ef1a84e7468c",
   "metadata": {},
   "source": [
    "### Making a dataset out of the circuit"
   ]
  },
  {
   "cell_type": "code",
   "execution_count": 84,
   "id": "e59d2e77-a6c7-40be-9a17-49b90a0aac94",
   "metadata": {},
   "outputs": [],
   "source": [
    "from tqdm import tqdm"
   ]
  },
  {
   "cell_type": "code",
   "execution_count": 86,
   "id": "f769aab9-6316-4c4b-904c-2319336b38f7",
   "metadata": {},
   "outputs": [
    {
     "name": "stderr",
     "output_type": "stream",
     "text": [
      "100%|██████████████████████████████████████████████████████████████████████████████████████████████████| 500/500 [00:36<00:00, 13.67it/s]\n"
     ]
    }
   ],
   "source": [
    "n_points = 500\n",
    "x = np.random.randn(n_points).astype(np.float32)\n",
    "labels = []\n",
    "weights = np.random.randn(3,1).astype(np.float32)\n",
    "for i in tqdm(range(n_points)):\n",
    "    labels.append(np.sign(data_gen(i,weights)))"
   ]
  },
  {
   "cell_type": "code",
   "execution_count": null,
   "id": "db49a27d-3047-4f9c-9a04-4bc89bc7ebf6",
   "metadata": {},
   "outputs": [],
   "source": [
    "for label in set(labels):\n",
    "    x_subset = [x_i for i, x_i in enumerate(x) if labels[i] == label]\n",
    "    y_subset = [y_i for i, y_i in enumerate(y) if labels[i] == label]\n",
    "    marker = 'v' if label == -1.0 else 'x'  # Example markers: 'o' for circles, 'x' for crosses\n",
    "    plt.scatter(x_subset, y_subset, label=label, marker=marker)\n",
    "\n",
    "# Add labels, title, and legend\n",
    "plt.legend()\n",
    "plt.xlabel('X-axis')\n",
    "plt.ylabel('Y-axis')\n",
    "plt.title('3 layer Randomly Generated 2-D Quantum Function dataset')\n",
    "plt.savefig(\"Dataset.png\")"
   ]
  },
  {
   "cell_type": "code",
   "execution_count": null,
   "id": "6eca7a83-4392-4a06-803d-4c61fda930c3",
   "metadata": {},
   "outputs": [],
   "source": []
  },
  {
   "cell_type": "code",
   "execution_count": null,
   "id": "3ab75612-edd8-4af3-bb9e-967b54500855",
   "metadata": {},
   "outputs": [],
   "source": []
  },
  {
   "cell_type": "code",
   "execution_count": null,
   "id": "8ff77eab-54b4-4a16-bb32-eb0eba31718d",
   "metadata": {},
   "outputs": [],
   "source": []
  },
  {
   "cell_type": "code",
   "execution_count": null,
   "id": "354c2d15-4dfe-449f-bdd8-66083b435d8a",
   "metadata": {},
   "outputs": [],
   "source": []
  }
 ],
 "metadata": {
  "kernelspec": {
   "display_name": "Python 3 (ipykernel)",
   "language": "python",
   "name": "python3"
  },
  "language_info": {
   "codemirror_mode": {
    "name": "ipython",
    "version": 3
   },
   "file_extension": ".py",
   "mimetype": "text/x-python",
   "name": "python",
   "nbconvert_exporter": "python",
   "pygments_lexer": "ipython3",
   "version": "3.12.11"
  }
 },
 "nbformat": 4,
 "nbformat_minor": 5
}
